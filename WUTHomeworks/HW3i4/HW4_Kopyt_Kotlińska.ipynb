{
 "cells": [
  {
   "cell_type": "markdown",
   "id": "e6650d9e",
   "metadata": {},
   "source": [
    "# Praca domowa nr4\n",
    "Zuzanna Kotlińska, Agata Kopyt"
   ]
  },
  {
   "cell_type": "code",
   "execution_count": 226,
   "id": "411e3700",
   "metadata": {},
   "outputs": [],
   "source": [
    "import pandas as pd\n",
    "import numpy as np\n",
    "import matplotlib.pyplot as plt\n",
    "import seaborn as sns\n",
    "\n",
    "from pandas.api.types import is_numeric_dtype\n",
    "from sklearn.feature_selection import mutual_info_classif\n",
    "from sklearn.model_selection import train_test_split\n",
    "from sklearn.pipeline import Pipeline\n",
    "from sklearn.feature_selection import SelectKBest\n",
    "from sklearn.preprocessing import MinMaxScaler\n",
    "from sklearn.metrics import f1_score, confusion_matrix,accuracy_score, precision_score, recall_score\n",
    "from imblearn.combine import SMOTEENN\n",
    "\n",
    "from sklearn.model_selection import RandomizedSearchCV\n",
    "from sklearn.model_selection import GridSearchCV\n",
    "\n",
    "import warnings as wr\n",
    "wr.filterwarnings(\"ignore\")"
   ]
  },
  {
   "cell_type": "markdown",
   "id": "0895dbb0",
   "metadata": {},
   "source": [
    "## Wczytanie i podział danych"
   ]
  },
  {
   "cell_type": "code",
   "execution_count": 227,
   "id": "d9066799",
   "metadata": {},
   "outputs": [],
   "source": [
    "df = pd.read_csv('data.csv')"
   ]
  },
  {
   "cell_type": "markdown",
   "id": "111e0a17",
   "metadata": {},
   "source": [
    "Jako, że nazwy kolumn zaczynają się od spacji, usuwamy ją."
   ]
  },
  {
   "cell_type": "code",
   "execution_count": 228,
   "id": "b6e4185f",
   "metadata": {},
   "outputs": [],
   "source": [
    "df.columns = df.columns.str.lstrip()"
   ]
  },
  {
   "cell_type": "code",
   "execution_count": 229,
   "id": "8d7df7a5",
   "metadata": {},
   "outputs": [],
   "source": [
    "def split_data(X,y, random_state = 42):\n",
    "    \n",
    "    X_train, X_val, y_train, y_val = train_test_split(\n",
    "        X, y, stratify=y, test_size=0.3, random_state=random_state\n",
    "    )\n",
    "    X_val, X_test, y_val, y_test = train_test_split(\n",
    "        X_val, y_val, stratify=y_val, test_size=0.3, random_state=random_state\n",
    "    )\n",
    "    return X_train, X_val, X_test, y_train, y_val, y_test "
   ]
  },
  {
   "cell_type": "code",
   "execution_count": 230,
   "id": "9d6d46f4",
   "metadata": {},
   "outputs": [],
   "source": [
    "y = np.array(df['Bankrupt?'])\n",
    "X = df.drop(['Bankrupt?'], axis=1)"
   ]
  },
  {
   "cell_type": "code",
   "execution_count": 231,
   "id": "bde0ecf9",
   "metadata": {},
   "outputs": [],
   "source": [
    "X_train, X_val, X_test, y_train, y_val, y_test = split_data(X,y)"
   ]
  },
  {
   "cell_type": "markdown",
   "id": "a805879b",
   "metadata": {},
   "source": [
    "## Preprocessing"
   ]
  },
  {
   "cell_type": "markdown",
   "id": "01f32e45",
   "metadata": {},
   "source": [
    "Zobaczmy jak przedstawiają się nasze dane"
   ]
  },
  {
   "cell_type": "code",
   "execution_count": 232,
   "id": "29fe903f",
   "metadata": {},
   "outputs": [
    {
     "data": {
      "text/html": [
       "<div>\n",
       "<style scoped>\n",
       "    .dataframe tbody tr th:only-of-type {\n",
       "        vertical-align: middle;\n",
       "    }\n",
       "\n",
       "    .dataframe tbody tr th {\n",
       "        vertical-align: top;\n",
       "    }\n",
       "\n",
       "    .dataframe thead th {\n",
       "        text-align: right;\n",
       "    }\n",
       "</style>\n",
       "<table border=\"1\" class=\"dataframe\">\n",
       "  <thead>\n",
       "    <tr style=\"text-align: right;\">\n",
       "      <th></th>\n",
       "      <th>ROA(C) before interest and depreciation before interest</th>\n",
       "      <th>ROA(A) before interest and % after tax</th>\n",
       "      <th>ROA(B) before interest and depreciation after tax</th>\n",
       "      <th>Operating Gross Margin</th>\n",
       "      <th>Realized Sales Gross Margin</th>\n",
       "      <th>Operating Profit Rate</th>\n",
       "      <th>Pre-tax net Interest Rate</th>\n",
       "      <th>After-tax net Interest Rate</th>\n",
       "      <th>Non-industry income and expenditure/revenue</th>\n",
       "      <th>Continuous interest rate (after tax)</th>\n",
       "      <th>...</th>\n",
       "      <th>Net Income to Total Assets</th>\n",
       "      <th>Total assets to GNP price</th>\n",
       "      <th>No-credit Interval</th>\n",
       "      <th>Gross Profit to Sales</th>\n",
       "      <th>Net Income to Stockholder's Equity</th>\n",
       "      <th>Liability to Equity</th>\n",
       "      <th>Degree of Financial Leverage (DFL)</th>\n",
       "      <th>Interest Coverage Ratio (Interest expense to EBIT)</th>\n",
       "      <th>Net Income Flag</th>\n",
       "      <th>Equity to Liability</th>\n",
       "    </tr>\n",
       "  </thead>\n",
       "  <tbody>\n",
       "    <tr>\n",
       "      <th>count</th>\n",
       "      <td>4773.000000</td>\n",
       "      <td>4773.000000</td>\n",
       "      <td>4773.000000</td>\n",
       "      <td>4773.000000</td>\n",
       "      <td>4773.000000</td>\n",
       "      <td>4773.000000</td>\n",
       "      <td>4773.000000</td>\n",
       "      <td>4773.000000</td>\n",
       "      <td>4773.000000</td>\n",
       "      <td>4773.000000</td>\n",
       "      <td>...</td>\n",
       "      <td>4773.000000</td>\n",
       "      <td>4.773000e+03</td>\n",
       "      <td>4773.000000</td>\n",
       "      <td>4773.000000</td>\n",
       "      <td>4773.000000</td>\n",
       "      <td>4773.000000</td>\n",
       "      <td>4773.000000</td>\n",
       "      <td>4773.000000</td>\n",
       "      <td>4773.0</td>\n",
       "      <td>4773.000000</td>\n",
       "    </tr>\n",
       "    <tr>\n",
       "      <th>mean</th>\n",
       "      <td>0.504262</td>\n",
       "      <td>0.557497</td>\n",
       "      <td>0.552759</td>\n",
       "      <td>0.607735</td>\n",
       "      <td>0.607715</td>\n",
       "      <td>0.998757</td>\n",
       "      <td>0.797263</td>\n",
       "      <td>0.809187</td>\n",
       "      <td>0.303747</td>\n",
       "      <td>0.781438</td>\n",
       "      <td>...</td>\n",
       "      <td>0.807204</td>\n",
       "      <td>1.980390e+07</td>\n",
       "      <td>0.623760</td>\n",
       "      <td>0.607733</td>\n",
       "      <td>0.840443</td>\n",
       "      <td>0.280316</td>\n",
       "      <td>0.027715</td>\n",
       "      <td>0.565339</td>\n",
       "      <td>1.0</td>\n",
       "      <td>0.047192</td>\n",
       "    </tr>\n",
       "    <tr>\n",
       "      <th>std</th>\n",
       "      <td>0.060874</td>\n",
       "      <td>0.065915</td>\n",
       "      <td>0.062145</td>\n",
       "      <td>0.017043</td>\n",
       "      <td>0.017025</td>\n",
       "      <td>0.014483</td>\n",
       "      <td>0.011973</td>\n",
       "      <td>0.010917</td>\n",
       "      <td>0.011899</td>\n",
       "      <td>0.011813</td>\n",
       "      <td>...</td>\n",
       "      <td>0.040504</td>\n",
       "      <td>3.865474e+08</td>\n",
       "      <td>0.012689</td>\n",
       "      <td>0.017043</td>\n",
       "      <td>0.009648</td>\n",
       "      <td>0.010208</td>\n",
       "      <td>0.018559</td>\n",
       "      <td>0.014131</td>\n",
       "      <td>0.0</td>\n",
       "      <td>0.049090</td>\n",
       "    </tr>\n",
       "    <tr>\n",
       "      <th>min</th>\n",
       "      <td>0.024277</td>\n",
       "      <td>0.000000</td>\n",
       "      <td>0.033514</td>\n",
       "      <td>0.000000</td>\n",
       "      <td>0.000000</td>\n",
       "      <td>0.000000</td>\n",
       "      <td>0.000000</td>\n",
       "      <td>0.084286</td>\n",
       "      <td>0.235090</td>\n",
       "      <td>0.000000</td>\n",
       "      <td>...</td>\n",
       "      <td>0.000000</td>\n",
       "      <td>0.000000e+00</td>\n",
       "      <td>0.000000</td>\n",
       "      <td>0.000000</td>\n",
       "      <td>0.344652</td>\n",
       "      <td>0.133503</td>\n",
       "      <td>0.000000</td>\n",
       "      <td>0.000000</td>\n",
       "      <td>1.0</td>\n",
       "      <td>0.000000</td>\n",
       "    </tr>\n",
       "    <tr>\n",
       "      <th>25%</th>\n",
       "      <td>0.476088</td>\n",
       "      <td>0.535052</td>\n",
       "      <td>0.527116</td>\n",
       "      <td>0.600463</td>\n",
       "      <td>0.600455</td>\n",
       "      <td>0.998969</td>\n",
       "      <td>0.797385</td>\n",
       "      <td>0.809310</td>\n",
       "      <td>0.303467</td>\n",
       "      <td>0.781566</td>\n",
       "      <td>...</td>\n",
       "      <td>0.796561</td>\n",
       "      <td>9.066675e-04</td>\n",
       "      <td>0.623635</td>\n",
       "      <td>0.600459</td>\n",
       "      <td>0.840095</td>\n",
       "      <td>0.276953</td>\n",
       "      <td>0.026791</td>\n",
       "      <td>0.565158</td>\n",
       "      <td>1.0</td>\n",
       "      <td>0.024383</td>\n",
       "    </tr>\n",
       "    <tr>\n",
       "      <th>50%</th>\n",
       "      <td>0.502462</td>\n",
       "      <td>0.559474</td>\n",
       "      <td>0.552010</td>\n",
       "      <td>0.605940</td>\n",
       "      <td>0.605904</td>\n",
       "      <td>0.999022</td>\n",
       "      <td>0.797462</td>\n",
       "      <td>0.809375</td>\n",
       "      <td>0.303525</td>\n",
       "      <td>0.781634</td>\n",
       "      <td>...</td>\n",
       "      <td>0.810467</td>\n",
       "      <td>2.069045e-03</td>\n",
       "      <td>0.623876</td>\n",
       "      <td>0.605936</td>\n",
       "      <td>0.841148</td>\n",
       "      <td>0.278794</td>\n",
       "      <td>0.026809</td>\n",
       "      <td>0.565254</td>\n",
       "      <td>1.0</td>\n",
       "      <td>0.033730</td>\n",
       "    </tr>\n",
       "    <tr>\n",
       "      <th>75%</th>\n",
       "      <td>0.534637</td>\n",
       "      <td>0.588149</td>\n",
       "      <td>0.582901</td>\n",
       "      <td>0.613651</td>\n",
       "      <td>0.613593</td>\n",
       "      <td>0.999093</td>\n",
       "      <td>0.797575</td>\n",
       "      <td>0.809467</td>\n",
       "      <td>0.303584</td>\n",
       "      <td>0.781729</td>\n",
       "      <td>...</td>\n",
       "      <td>0.826101</td>\n",
       "      <td>5.242451e-03</td>\n",
       "      <td>0.624168</td>\n",
       "      <td>0.613651</td>\n",
       "      <td>0.842336</td>\n",
       "      <td>0.281491</td>\n",
       "      <td>0.026914</td>\n",
       "      <td>0.565729</td>\n",
       "      <td>1.0</td>\n",
       "      <td>0.052676</td>\n",
       "    </tr>\n",
       "    <tr>\n",
       "      <th>max</th>\n",
       "      <td>1.000000</td>\n",
       "      <td>1.000000</td>\n",
       "      <td>1.000000</td>\n",
       "      <td>0.665151</td>\n",
       "      <td>0.666023</td>\n",
       "      <td>1.000000</td>\n",
       "      <td>1.000000</td>\n",
       "      <td>1.000000</td>\n",
       "      <td>1.000000</td>\n",
       "      <td>1.000000</td>\n",
       "      <td>...</td>\n",
       "      <td>1.000000</td>\n",
       "      <td>9.820000e+09</td>\n",
       "      <td>1.000000</td>\n",
       "      <td>0.665149</td>\n",
       "      <td>1.000000</td>\n",
       "      <td>0.652347</td>\n",
       "      <td>1.000000</td>\n",
       "      <td>1.000000</td>\n",
       "      <td>1.0</td>\n",
       "      <td>1.000000</td>\n",
       "    </tr>\n",
       "  </tbody>\n",
       "</table>\n",
       "<p>8 rows × 95 columns</p>\n",
       "</div>"
      ],
      "text/plain": [
       "       ROA(C) before interest and depreciation before interest  \\\n",
       "count                                        4773.000000         \n",
       "mean                                            0.504262         \n",
       "std                                             0.060874         \n",
       "min                                             0.024277         \n",
       "25%                                             0.476088         \n",
       "50%                                             0.502462         \n",
       "75%                                             0.534637         \n",
       "max                                             1.000000         \n",
       "\n",
       "       ROA(A) before interest and % after tax  \\\n",
       "count                             4773.000000   \n",
       "mean                                 0.557497   \n",
       "std                                  0.065915   \n",
       "min                                  0.000000   \n",
       "25%                                  0.535052   \n",
       "50%                                  0.559474   \n",
       "75%                                  0.588149   \n",
       "max                                  1.000000   \n",
       "\n",
       "       ROA(B) before interest and depreciation after tax  \\\n",
       "count                                        4773.000000   \n",
       "mean                                            0.552759   \n",
       "std                                             0.062145   \n",
       "min                                             0.033514   \n",
       "25%                                             0.527116   \n",
       "50%                                             0.552010   \n",
       "75%                                             0.582901   \n",
       "max                                             1.000000   \n",
       "\n",
       "       Operating Gross Margin  Realized Sales Gross Margin  \\\n",
       "count             4773.000000                  4773.000000   \n",
       "mean                 0.607735                     0.607715   \n",
       "std                  0.017043                     0.017025   \n",
       "min                  0.000000                     0.000000   \n",
       "25%                  0.600463                     0.600455   \n",
       "50%                  0.605940                     0.605904   \n",
       "75%                  0.613651                     0.613593   \n",
       "max                  0.665151                     0.666023   \n",
       "\n",
       "       Operating Profit Rate  Pre-tax net Interest Rate  \\\n",
       "count            4773.000000                4773.000000   \n",
       "mean                0.998757                   0.797263   \n",
       "std                 0.014483                   0.011973   \n",
       "min                 0.000000                   0.000000   \n",
       "25%                 0.998969                   0.797385   \n",
       "50%                 0.999022                   0.797462   \n",
       "75%                 0.999093                   0.797575   \n",
       "max                 1.000000                   1.000000   \n",
       "\n",
       "       After-tax net Interest Rate  \\\n",
       "count                  4773.000000   \n",
       "mean                      0.809187   \n",
       "std                       0.010917   \n",
       "min                       0.084286   \n",
       "25%                       0.809310   \n",
       "50%                       0.809375   \n",
       "75%                       0.809467   \n",
       "max                       1.000000   \n",
       "\n",
       "       Non-industry income and expenditure/revenue  \\\n",
       "count                                  4773.000000   \n",
       "mean                                      0.303747   \n",
       "std                                       0.011899   \n",
       "min                                       0.235090   \n",
       "25%                                       0.303467   \n",
       "50%                                       0.303525   \n",
       "75%                                       0.303584   \n",
       "max                                       1.000000   \n",
       "\n",
       "       Continuous interest rate (after tax)  ...  Net Income to Total Assets  \\\n",
       "count                           4773.000000  ...                 4773.000000   \n",
       "mean                               0.781438  ...                    0.807204   \n",
       "std                                0.011813  ...                    0.040504   \n",
       "min                                0.000000  ...                    0.000000   \n",
       "25%                                0.781566  ...                    0.796561   \n",
       "50%                                0.781634  ...                    0.810467   \n",
       "75%                                0.781729  ...                    0.826101   \n",
       "max                                1.000000  ...                    1.000000   \n",
       "\n",
       "       Total assets to GNP price  No-credit Interval  Gross Profit to Sales  \\\n",
       "count               4.773000e+03         4773.000000            4773.000000   \n",
       "mean                1.980390e+07            0.623760               0.607733   \n",
       "std                 3.865474e+08            0.012689               0.017043   \n",
       "min                 0.000000e+00            0.000000               0.000000   \n",
       "25%                 9.066675e-04            0.623635               0.600459   \n",
       "50%                 2.069045e-03            0.623876               0.605936   \n",
       "75%                 5.242451e-03            0.624168               0.613651   \n",
       "max                 9.820000e+09            1.000000               0.665149   \n",
       "\n",
       "       Net Income to Stockholder's Equity  Liability to Equity  \\\n",
       "count                         4773.000000          4773.000000   \n",
       "mean                             0.840443             0.280316   \n",
       "std                              0.009648             0.010208   \n",
       "min                              0.344652             0.133503   \n",
       "25%                              0.840095             0.276953   \n",
       "50%                              0.841148             0.278794   \n",
       "75%                              0.842336             0.281491   \n",
       "max                              1.000000             0.652347   \n",
       "\n",
       "       Degree of Financial Leverage (DFL)  \\\n",
       "count                         4773.000000   \n",
       "mean                             0.027715   \n",
       "std                              0.018559   \n",
       "min                              0.000000   \n",
       "25%                              0.026791   \n",
       "50%                              0.026809   \n",
       "75%                              0.026914   \n",
       "max                              1.000000   \n",
       "\n",
       "       Interest Coverage Ratio (Interest expense to EBIT)  Net Income Flag  \\\n",
       "count                                        4773.000000            4773.0   \n",
       "mean                                            0.565339               1.0   \n",
       "std                                             0.014131               0.0   \n",
       "min                                             0.000000               1.0   \n",
       "25%                                             0.565158               1.0   \n",
       "50%                                             0.565254               1.0   \n",
       "75%                                             0.565729               1.0   \n",
       "max                                             1.000000               1.0   \n",
       "\n",
       "       Equity to Liability  \n",
       "count          4773.000000  \n",
       "mean              0.047192  \n",
       "std               0.049090  \n",
       "min               0.000000  \n",
       "25%               0.024383  \n",
       "50%               0.033730  \n",
       "75%               0.052676  \n",
       "max               1.000000  \n",
       "\n",
       "[8 rows x 95 columns]"
      ]
     },
     "execution_count": 232,
     "metadata": {},
     "output_type": "execute_result"
    }
   ],
   "source": [
    "X_train.describe()"
   ]
  },
  {
   "cell_type": "code",
   "execution_count": 233,
   "id": "34788842",
   "metadata": {},
   "outputs": [
    {
     "name": "stdout",
     "output_type": "stream",
     "text": [
      "<class 'pandas.core.frame.DataFrame'>\n",
      "Int64Index: 4773 entries, 3295 to 6313\n",
      "Data columns (total 95 columns):\n",
      " #   Column                                                   Non-Null Count  Dtype  \n",
      "---  ------                                                   --------------  -----  \n",
      " 0   ROA(C) before interest and depreciation before interest  4773 non-null   float64\n",
      " 1   ROA(A) before interest and % after tax                   4773 non-null   float64\n",
      " 2   ROA(B) before interest and depreciation after tax        4773 non-null   float64\n",
      " 3   Operating Gross Margin                                   4773 non-null   float64\n",
      " 4   Realized Sales Gross Margin                              4773 non-null   float64\n",
      " 5   Operating Profit Rate                                    4773 non-null   float64\n",
      " 6   Pre-tax net Interest Rate                                4773 non-null   float64\n",
      " 7   After-tax net Interest Rate                              4773 non-null   float64\n",
      " 8   Non-industry income and expenditure/revenue              4773 non-null   float64\n",
      " 9   Continuous interest rate (after tax)                     4773 non-null   float64\n",
      " 10  Operating Expense Rate                                   4773 non-null   float64\n",
      " 11  Research and development expense rate                    4773 non-null   float64\n",
      " 12  Cash flow rate                                           4773 non-null   float64\n",
      " 13  Interest-bearing debt interest rate                      4773 non-null   float64\n",
      " 14  Tax rate (A)                                             4773 non-null   float64\n",
      " 15  Net Value Per Share (B)                                  4773 non-null   float64\n",
      " 16  Net Value Per Share (A)                                  4773 non-null   float64\n",
      " 17  Net Value Per Share (C)                                  4773 non-null   float64\n",
      " 18  Persistent EPS in the Last Four Seasons                  4773 non-null   float64\n",
      " 19  Cash Flow Per Share                                      4773 non-null   float64\n",
      " 20  Revenue Per Share (Yuan ¥)                               4773 non-null   float64\n",
      " 21  Operating Profit Per Share (Yuan ¥)                      4773 non-null   float64\n",
      " 22  Per Share Net profit before tax (Yuan ¥)                 4773 non-null   float64\n",
      " 23  Realized Sales Gross Profit Growth Rate                  4773 non-null   float64\n",
      " 24  Operating Profit Growth Rate                             4773 non-null   float64\n",
      " 25  After-tax Net Profit Growth Rate                         4773 non-null   float64\n",
      " 26  Regular Net Profit Growth Rate                           4773 non-null   float64\n",
      " 27  Continuous Net Profit Growth Rate                        4773 non-null   float64\n",
      " 28  Total Asset Growth Rate                                  4773 non-null   float64\n",
      " 29  Net Value Growth Rate                                    4773 non-null   float64\n",
      " 30  Total Asset Return Growth Rate Ratio                     4773 non-null   float64\n",
      " 31  Cash Reinvestment %                                      4773 non-null   float64\n",
      " 32  Current Ratio                                            4773 non-null   float64\n",
      " 33  Quick Ratio                                              4773 non-null   float64\n",
      " 34  Interest Expense Ratio                                   4773 non-null   float64\n",
      " 35  Total debt/Total net worth                               4773 non-null   float64\n",
      " 36  Debt ratio %                                             4773 non-null   float64\n",
      " 37  Net worth/Assets                                         4773 non-null   float64\n",
      " 38  Long-term fund suitability ratio (A)                     4773 non-null   float64\n",
      " 39  Borrowing dependency                                     4773 non-null   float64\n",
      " 40  Contingent liabilities/Net worth                         4773 non-null   float64\n",
      " 41  Operating profit/Paid-in capital                         4773 non-null   float64\n",
      " 42  Net profit before tax/Paid-in capital                    4773 non-null   float64\n",
      " 43  Inventory and accounts receivable/Net value              4773 non-null   float64\n",
      " 44  Total Asset Turnover                                     4773 non-null   float64\n",
      " 45  Accounts Receivable Turnover                             4773 non-null   float64\n",
      " 46  Average Collection Days                                  4773 non-null   float64\n",
      " 47  Inventory Turnover Rate (times)                          4773 non-null   float64\n",
      " 48  Fixed Assets Turnover Frequency                          4773 non-null   float64\n",
      " 49  Net Worth Turnover Rate (times)                          4773 non-null   float64\n",
      " 50  Revenue per person                                       4773 non-null   float64\n",
      " 51  Operating profit per person                              4773 non-null   float64\n",
      " 52  Allocation rate per person                               4773 non-null   float64\n",
      " 53  Working Capital to Total Assets                          4773 non-null   float64\n",
      " 54  Quick Assets/Total Assets                                4773 non-null   float64\n",
      " 55  Current Assets/Total Assets                              4773 non-null   float64\n",
      " 56  Cash/Total Assets                                        4773 non-null   float64\n",
      " 57  Quick Assets/Current Liability                           4773 non-null   float64\n",
      " 58  Cash/Current Liability                                   4773 non-null   float64\n",
      " 59  Current Liability to Assets                              4773 non-null   float64\n",
      " 60  Operating Funds to Liability                             4773 non-null   float64\n",
      " 61  Inventory/Working Capital                                4773 non-null   float64\n",
      " 62  Inventory/Current Liability                              4773 non-null   float64\n",
      " 63  Current Liabilities/Liability                            4773 non-null   float64\n",
      " 64  Working Capital/Equity                                   4773 non-null   float64\n",
      " 65  Current Liabilities/Equity                               4773 non-null   float64\n",
      " 66  Long-term Liability to Current Assets                    4773 non-null   float64\n",
      " 67  Retained Earnings to Total Assets                        4773 non-null   float64\n",
      " 68  Total income/Total expense                               4773 non-null   float64\n",
      " 69  Total expense/Assets                                     4773 non-null   float64\n",
      " 70  Current Asset Turnover Rate                              4773 non-null   float64\n",
      " 71  Quick Asset Turnover Rate                                4773 non-null   float64\n",
      " 72  Working capitcal Turnover Rate                           4773 non-null   float64\n",
      " 73  Cash Turnover Rate                                       4773 non-null   float64\n",
      " 74  Cash Flow to Sales                                       4773 non-null   float64\n",
      " 75  Fixed Assets to Assets                                   4773 non-null   float64\n",
      " 76  Current Liability to Liability                           4773 non-null   float64\n",
      " 77  Current Liability to Equity                              4773 non-null   float64\n",
      " 78  Equity to Long-term Liability                            4773 non-null   float64\n",
      " 79  Cash Flow to Total Assets                                4773 non-null   float64\n",
      " 80  Cash Flow to Liability                                   4773 non-null   float64\n",
      " 81  CFO to Assets                                            4773 non-null   float64\n",
      " 82  Cash Flow to Equity                                      4773 non-null   float64\n",
      " 83  Current Liability to Current Assets                      4773 non-null   float64\n",
      " 84  Liability-Assets Flag                                    4773 non-null   int64  \n",
      " 85  Net Income to Total Assets                               4773 non-null   float64\n",
      " 86  Total assets to GNP price                                4773 non-null   float64\n",
      " 87  No-credit Interval                                       4773 non-null   float64\n",
      " 88  Gross Profit to Sales                                    4773 non-null   float64\n",
      " 89  Net Income to Stockholder's Equity                       4773 non-null   float64\n",
      " 90  Liability to Equity                                      4773 non-null   float64\n",
      " 91  Degree of Financial Leverage (DFL)                       4773 non-null   float64\n",
      " 92  Interest Coverage Ratio (Interest expense to EBIT)       4773 non-null   float64\n",
      " 93  Net Income Flag                                          4773 non-null   int64  \n",
      " 94  Equity to Liability                                      4773 non-null   float64\n",
      "dtypes: float64(93), int64(2)\n",
      "memory usage: 3.5 MB\n"
     ]
    }
   ],
   "source": [
    "X_train.info()"
   ]
  },
  {
   "cell_type": "markdown",
   "id": "2641bd25",
   "metadata": {},
   "source": [
    "### Braki danych\n",
    "Sprawdzamy czy są braki danych"
   ]
  },
  {
   "cell_type": "code",
   "execution_count": 234,
   "id": "54cb4f8f",
   "metadata": {},
   "outputs": [
    {
     "data": {
      "text/plain": [
       "False"
      ]
     },
     "execution_count": 234,
     "metadata": {},
     "output_type": "execute_result"
    }
   ],
   "source": [
    "X_train.isna().mean(axis=0).any()"
   ]
  },
  {
   "cell_type": "markdown",
   "id": "b2fe83a0",
   "metadata": {},
   "source": [
    "Sprawdzamy, czy są kolumny o tylko 1 unikalnej wartości"
   ]
  },
  {
   "cell_type": "code",
   "execution_count": 235,
   "id": "5b3829ee",
   "metadata": {},
   "outputs": [
    {
     "data": {
      "text/plain": [
       "Index(['Net Income Flag'], dtype='object')"
      ]
     },
     "execution_count": 235,
     "metadata": {},
     "output_type": "execute_result"
    }
   ],
   "source": [
    "X_train.columns[X_train.nunique() == 1]"
   ]
  },
  {
   "cell_type": "markdown",
   "id": "17f4e263",
   "metadata": {},
   "source": [
    "Taką kolumną jest `Net Income Flag`. Usuniemy ją, bo jako stała nie ma wpływu na zmienną celu."
   ]
  },
  {
   "cell_type": "code",
   "execution_count": 236,
   "id": "5df9561f",
   "metadata": {},
   "outputs": [],
   "source": [
    "X_train =X_train.drop(['Net Income Flag'], axis=1)\n",
    "X_val =X_val.drop(['Net Income Flag'], axis=1)"
   ]
  },
  {
   "cell_type": "markdown",
   "id": "6de78709",
   "metadata": {},
   "source": [
    "### Rozkład zmiennej celu"
   ]
  },
  {
   "cell_type": "code",
   "execution_count": 237,
   "id": "8646f8d1",
   "metadata": {},
   "outputs": [
    {
     "data": {
      "text/plain": [
       "array([0, 1], dtype=int64)"
      ]
     },
     "execution_count": 237,
     "metadata": {},
     "output_type": "execute_result"
    }
   ],
   "source": [
    "np.unique(y_train)"
   ]
  },
  {
   "cell_type": "code",
   "execution_count": 238,
   "id": "968665ce",
   "metadata": {},
   "outputs": [
    {
     "data": {
      "image/png": "[encoded data removed]",
      "text/plain": [
       "<Figure size 864x432 with 1 Axes>"
      ]
     },
     "metadata": {
      "needs_background": "light"
     },
     "output_type": "display_data"
    }
   ],
   "source": [
    "plt.figure(figsize=(12,6))\n",
    "sns.histplot(data = y_train, bins=2)\n",
    "plt.show()"
   ]
  },
  {
   "cell_type": "markdown",
   "id": "663ed09d",
   "metadata": {},
   "source": [
    "### Zbilansowanie\n",
    "\n",
    "Zmienna celu jest nie zbilansowana, w związku z tym postaramy się sztucznie to poprawić używając *SMOTEENN*. Jest to połączenie oversamplingu z wykorzystaniem SMOTE i undersamplingu z użyciem ENN. Poprawiając dysproporcję nie dążymy, aby wartości zmiennej celu były wyrównane, ponieważ za bardzo odbiega to od rzeczywistości."
   ]
  },
  {
   "cell_type": "code",
   "execution_count": 239,
   "id": "c07d71f4",
   "metadata": {},
   "outputs": [],
   "source": [
    "resample = SMOTEENN(random_state=42,sampling_strategy=0.2)\n",
    "X_train, y_train = resample.fit_resample(X_train, y_train)"
   ]
  },
  {
   "cell_type": "code",
   "execution_count": 240,
   "id": "8ae15755",
   "metadata": {},
   "outputs": [
    {
     "data": {
      "image/png": "[encoded data removed]",
      "text/plain": [
       "<Figure size 864x432 with 1 Axes>"
      ]
     },
     "metadata": {
      "needs_background": "light"
     },
     "output_type": "display_data"
    }
   ],
   "source": [
    "plt.figure(figsize=(12,6))\n",
    "sns.histplot(data = y_train, bins=2)\n",
    "plt.show()"
   ]
  },
  {
   "cell_type": "markdown",
   "id": "ca52c56a",
   "metadata": {},
   "source": [
    "### Outliery\n",
    "Sprawdźmy teraz występowanie outlierów"
   ]
  },
  {
   "cell_type": "code",
   "execution_count": 241,
   "id": "f427f39a",
   "metadata": {},
   "outputs": [],
   "source": [
    "def count_outliers(X : pd.DataFrame, column):\n",
    "    Q1 = X[column].quantile(0.25)\n",
    "    Q3 = X[column].quantile(0.75)\n",
    "    IQR = Q3 - Q1\n",
    "    outlier_count = ((X[column] < (Q1 - 1.5 * IQR)) | (X[column] > (Q3 + 1.5 * IQR))).sum()\n",
    "    major_outlier_count = ((X[column] < (Q1 - 3 * IQR)) | (X[column] > (Q3 + 3 * IQR))).sum()\n",
    "    return outlier_count, major_outlier_count"
   ]
  },
  {
   "cell_type": "code",
   "execution_count": 242,
   "id": "5d624913",
   "metadata": {},
   "outputs": [
    {
     "data": {
      "text/html": [
       "<div>\n",
       "<style scoped>\n",
       "    .dataframe tbody tr th:only-of-type {\n",
       "        vertical-align: middle;\n",
       "    }\n",
       "\n",
       "    .dataframe tbody tr th {\n",
       "        vertical-align: top;\n",
       "    }\n",
       "\n",
       "    .dataframe thead th {\n",
       "        text-align: right;\n",
       "    }\n",
       "</style>\n",
       "<table border=\"1\" class=\"dataframe\">\n",
       "  <thead>\n",
       "    <tr style=\"text-align: right;\">\n",
       "      <th></th>\n",
       "      <th>Column</th>\n",
       "      <th>Outliers</th>\n",
       "      <th>Major Outliers</th>\n",
       "    </tr>\n",
       "  </thead>\n",
       "  <tbody>\n",
       "    <tr>\n",
       "      <th>0</th>\n",
       "      <td>ROA(C) before interest and depreciation before...</td>\n",
       "      <td>291</td>\n",
       "      <td>61</td>\n",
       "    </tr>\n",
       "    <tr>\n",
       "      <th>1</th>\n",
       "      <td>ROA(A) before interest and % after tax</td>\n",
       "      <td>357</td>\n",
       "      <td>114</td>\n",
       "    </tr>\n",
       "    <tr>\n",
       "      <th>2</th>\n",
       "      <td>ROA(B) before interest and depreciation after tax</td>\n",
       "      <td>330</td>\n",
       "      <td>86</td>\n",
       "    </tr>\n",
       "    <tr>\n",
       "      <th>3</th>\n",
       "      <td>Operating Gross Margin</td>\n",
       "      <td>213</td>\n",
       "      <td>57</td>\n",
       "    </tr>\n",
       "    <tr>\n",
       "      <th>4</th>\n",
       "      <td>Realized Sales Gross Margin</td>\n",
       "      <td>217</td>\n",
       "      <td>56</td>\n",
       "    </tr>\n",
       "    <tr>\n",
       "      <th>...</th>\n",
       "      <td>...</td>\n",
       "      <td>...</td>\n",
       "      <td>...</td>\n",
       "    </tr>\n",
       "    <tr>\n",
       "      <th>89</th>\n",
       "      <td>Net Income to Stockholder's Equity</td>\n",
       "      <td>464</td>\n",
       "      <td>232</td>\n",
       "    </tr>\n",
       "    <tr>\n",
       "      <th>90</th>\n",
       "      <td>Liability to Equity</td>\n",
       "      <td>304</td>\n",
       "      <td>100</td>\n",
       "    </tr>\n",
       "    <tr>\n",
       "      <th>91</th>\n",
       "      <td>Degree of Financial Leverage (DFL)</td>\n",
       "      <td>1152</td>\n",
       "      <td>763</td>\n",
       "    </tr>\n",
       "    <tr>\n",
       "      <th>92</th>\n",
       "      <td>Interest Coverage Ratio (Interest expense to E...</td>\n",
       "      <td>1066</td>\n",
       "      <td>648</td>\n",
       "    </tr>\n",
       "    <tr>\n",
       "      <th>93</th>\n",
       "      <td>Equity to Liability</td>\n",
       "      <td>382</td>\n",
       "      <td>159</td>\n",
       "    </tr>\n",
       "  </tbody>\n",
       "</table>\n",
       "<p>94 rows × 3 columns</p>\n",
       "</div>"
      ],
      "text/plain": [
       "                                               Column Outliers Major Outliers\n",
       "0   ROA(C) before interest and depreciation before...      291             61\n",
       "1              ROA(A) before interest and % after tax      357            114\n",
       "2   ROA(B) before interest and depreciation after tax      330             86\n",
       "3                              Operating Gross Margin      213             57\n",
       "4                         Realized Sales Gross Margin      217             56\n",
       "..                                                ...      ...            ...\n",
       "89                 Net Income to Stockholder's Equity      464            232\n",
       "90                                Liability to Equity      304            100\n",
       "91                 Degree of Financial Leverage (DFL)     1152            763\n",
       "92  Interest Coverage Ratio (Interest expense to E...     1066            648\n",
       "93                                Equity to Liability      382            159\n",
       "\n",
       "[94 rows x 3 columns]"
      ]
     },
     "execution_count": 242,
     "metadata": {},
     "output_type": "execute_result"
    }
   ],
   "source": [
    "outliers_df = pd.DataFrame(columns=['Column', 'Outliers', 'Major Outliers'])\n",
    "for column in X_train.columns:\n",
    "    outlier_count, major_outlier_count = count_outliers(X_train, column)\n",
    "    outliers_df = outliers_df.append({'Column': column, 'Outliers': outlier_count, 'Major Outliers': major_outlier_count}, ignore_index=True)\n",
    "outliers_df"
   ]
  },
  {
   "cell_type": "markdown",
   "id": "0d48c916",
   "metadata": {},
   "source": [
    "Jak widać outliery istotnie występują, zostaną więc przycięte."
   ]
  },
  {
   "cell_type": "code",
   "execution_count": 243,
   "id": "0efc9d88",
   "metadata": {},
   "outputs": [],
   "source": [
    "def TrimOutliers(X):\n",
    "    for column in X.columns:\n",
    "        if not is_numeric_dtype(X[column]):\n",
    "            continue\n",
    "        min_v = X[column].quantile(0.025)\n",
    "        max_v = X[column].quantile(0.975)\n",
    "        X.loc[X[column] < min_v, column] = min_v\n",
    "        X.loc[X[column] > max_v, column] = max_v\n",
    "    return X"
   ]
  },
  {
   "cell_type": "code",
   "execution_count": 244,
   "id": "139c9655",
   "metadata": {},
   "outputs": [],
   "source": [
    "X_train = TrimOutliers(X_train)\n",
    "X_val = TrimOutliers(X_val)"
   ]
  },
  {
   "cell_type": "markdown",
   "id": "42655cc3",
   "metadata": {},
   "source": [
    "### Zmienne skorelowane ze zmienną celu\n",
    "Teraz szukamy zmiennych silnie skorelowanych ze zmienną celu. Wznaczamy feature importance dla każdej zmiennej i dla zmiennych o korelacji >0.65 usuwamy zmienną mniej informatywną."
   ]
  },
  {
   "cell_type": "code",
   "execution_count": 245,
   "id": "4a9bddc8",
   "metadata": {},
   "outputs": [],
   "source": [
    "mi = mutual_info_classif(X_train, y_train)\n",
    "mi = pd.Series(mi, index = X_train.columns)"
   ]
  },
  {
   "cell_type": "code",
   "execution_count": 246,
   "id": "d8df6467",
   "metadata": {},
   "outputs": [],
   "source": [
    "def remove_highly_correlated(X, mi, threshold=0.65):\n",
    "    # znajdź pary (różnych) zmiennych o korelacji większej niż threshold\n",
    "    correlation = X.corr()\n",
    "    correlation = correlation.melt(ignore_index=False).reset_index(drop=False).rename(columns={'index':'Var 1', 'variable': 'Var 2', 'value': 'Corr'})\n",
    "    correlation = correlation[(np.abs(correlation['Corr']) > threshold) & (correlation['Var 1'] != correlation['Var 2'])].sort_values(by='Corr', ascending=False)\n",
    "\n",
    "    # idąc od najbardziej skorelowanych odrzuć tę mniej ważną\n",
    "    # jest to bardzo prosty i naiwny algorytm, ponieważ nie maksymalizuje on średniej pozostałej wartości feature importance\n",
    "    # ani nie minimalizuje liczby usuniętych zmiennych\n",
    "\n",
    "    removed_features = set()\n",
    "    for _, row in correlation.iterrows():\n",
    "        var_1 = row['Var 1']\n",
    "        var_2 = row['Var 2']\n",
    "        if (var_1 in removed_features or var_2 in removed_features):\n",
    "            continue # do not remove unecessary columns\n",
    "        fi_1 = mi[var_1]\n",
    "        fi_2 = mi[var_2]\n",
    "        if (fi_2 < fi_1):\n",
    "            removed_features.add(var_2)\n",
    "        else:\n",
    "            removed_features.add(var_1)\n",
    "\n",
    "    return X.drop(list(removed_features), axis=1), removed_features"
   ]
  },
  {
   "cell_type": "markdown",
   "id": "50185a34",
   "metadata": {},
   "source": [
    "Poniższy wykres przedstawia feature importance dla 10 najlepszych zmiennych."
   ]
  },
  {
   "cell_type": "code",
   "execution_count": 247,
   "id": "28011df8",
   "metadata": {},
   "outputs": [
    {
     "data": {
      "image/png": "[encoded data removed]",
      "text/plain": [
       "<Figure size 2880x432 with 1 Axes>"
      ]
     },
     "metadata": {
      "needs_background": "light"
     },
     "output_type": "display_data"
    }
   ],
   "source": [
    "plt.figure(figsize=(40, 6))\n",
    "mi = mutual_info_classif(X_train, y_train)\n",
    "mi = pd.Series(mi, index = X_train.columns)\n",
    "top_10_features = mi.sort_values(ascending=False).head(10)\n",
    "top_10_features.plot.bar(fontsize=24)\n",
    "plt.ylabel('Mutual Information')\n",
    "plt.show()"
   ]
  },
  {
   "cell_type": "markdown",
   "id": "450b6126",
   "metadata": {},
   "source": [
    "Po usunięciu zmiennych silnie skorelowanych, wybierzemy 30 najlepszych zmiennych do trenowania modeli."
   ]
  },
  {
   "cell_type": "code",
   "execution_count": 248,
   "id": "0fc7496c",
   "metadata": {},
   "outputs": [
    {
     "data": {
      "image/png": "[encoded data removed]",
      "text/plain": [
       "<Figure size 1296x720 with 2 Axes>"
      ]
     },
     "metadata": {
      "needs_background": "light"
     },
     "output_type": "display_data"
    }
   ],
   "source": [
    "plt.figure(figsize=(18, 10))\n",
    "sns.heatmap(X_train.corr(), vmin=-1, vmax=1,\n",
    "        xticklabels=np.arange(X_train.columns.shape[0]), # liczby dla czytelności, poniważ nazwy kolumn są zbyt długie\n",
    "        yticklabels=np.arange(X_train.columns.shape[0]))\n",
    "plt.show()"
   ]
  },
  {
   "cell_type": "code",
   "execution_count": 249,
   "id": "4be82695",
   "metadata": {},
   "outputs": [],
   "source": [
    "class CorrelatedFeatureDropper:\n",
    "    def __init__(self, threshold=0.65):\n",
    "        self.threshold = threshold\n",
    "\n",
    "    def fit(self, X, y):\n",
    "        mi = mutual_info_classif(X, y)\n",
    "        mi = pd.Series(mi, index=X.columns)\n",
    "        self.dropped_columns = remove_highly_correlated(X, mi)[1]\n",
    "        return self\n",
    "\n",
    "    def transform(self, X, y = None):\n",
    "        return X.drop(self.dropped_columns, axis=1)"
   ]
  },
  {
   "cell_type": "markdown",
   "id": "0b0e1c81",
   "metadata": {},
   "source": [
    "### Zamiana korelacji ujemnej na dodatnią"
   ]
  },
  {
   "cell_type": "code",
   "execution_count": 250,
   "id": "b479d95b",
   "metadata": {},
   "outputs": [],
   "source": [
    "def Negative2Positive(X,y):\n",
    "    X['Bankrupt?'] = y\n",
    "    correlation = X.corr()\n",
    "    negativ_corr = X.columns[correlation['Bankrupt?']<0] #lista zmiennych ujemnie skorelowanych\n",
    "    for column in negativ_corr:\n",
    "        X[column] = -X[column] #zmaiana wartosći tych zmiennych na przeciwne\n",
    "    return X.drop('Bankrupt?', axis=1)"
   ]
  },
  {
   "cell_type": "code",
   "execution_count": 251,
   "id": "b92e4bd3",
   "metadata": {},
   "outputs": [],
   "source": [
    "X_train = Negative2Positive(X_train, y_train)\n",
    "X_val =Negative2Positive(X_val, y_val)"
   ]
  },
  {
   "cell_type": "markdown",
   "id": "8638fb28",
   "metadata": {},
   "source": [
    "### Przeskalowanie zmiennych i wybór 30 najbardziej informatywnych"
   ]
  },
  {
   "cell_type": "code",
   "execution_count": 252,
   "id": "db14c7a3",
   "metadata": {},
   "outputs": [],
   "source": [
    "preprocessor = Pipeline(\n",
    "    steps=[\n",
    "        ('CorrelatedFeatureDropper', CorrelatedFeatureDropper()),\n",
    "        ('MinMaxScaler', MinMaxScaler()),\n",
    "        ('FeatureSelector', SelectKBest(mutual_info_classif, k=30)),\n",
    "    ]\n",
    ")\n",
    "\n",
    "X_train= preprocessor.fit_transform(X_train,y_train)\n",
    "X_val=preprocessor.transform(X_val)"
   ]
  },
  {
   "cell_type": "markdown",
   "id": "a2ee0186",
   "metadata": {},
   "source": [
    "## Budowanie modeli\n",
    "\n",
    "Najpierw stworzymy uniwerslaną funkcję do ewaluacji modeli z metryką accuracy, precision, recall i F1 Score, przy czym strojenie parametru oparłyśmy o F1. Zdecydowałyśmy się na tą metrykę, ponieważ zmiena celu jest nie zbilansowana."
   ]
  },
  {
   "cell_type": "code",
   "execution_count": 253,
   "id": "dac70468",
   "metadata": {},
   "outputs": [],
   "source": [
    "def evaluate(model : Pipeline, X, y, suppress_output = False):\n",
    "    y_pred = model.predict(X)\n",
    "    if not suppress_output:\n",
    "        print(f\"Accuracy score: \", accuracy_score(y,y_pred))\n",
    "        print(\"precision: \", precision_score(y,y_pred))\n",
    "        print(\"recall: \", recall_score(y,y_pred))\n",
    "        print(\"f1: \", f1_score(y,y_pred))\n",
    "        sns.heatmap(confusion_matrix(y, y_pred), annot=True, fmt='g', xticklabels=[\"Positive\", \"Negative\"], yticklabels=[\"Positive\", \"Negative\"])\n",
    "        plt.xlabel(\"Predicted Class\")\n",
    "        plt.ylabel(\"True Class\")\n",
    "\n",
    "    return f1_score(y,y_pred)"
   ]
  },
  {
   "cell_type": "markdown",
   "id": "4376a66d",
   "metadata": {},
   "source": [
    "### Drzewo decyzyjne\n",
    "\n",
    "#### Model z parametrami domyślnymi"
   ]
  },
  {
   "cell_type": "code",
   "execution_count": 254,
   "id": "b072e9f3",
   "metadata": {},
   "outputs": [
    {
     "name": "stdout",
     "output_type": "stream",
     "text": [
      "Accuracy score:  0.8505586592178771\n",
      "precision:  0.08415841584158416\n",
      "recall:  0.3695652173913043\n",
      "f1:  0.1370967741935484\n"
     ]
    },
    {
     "data": {
      "image/png": "[encoded data removed]",
      "text/plain": [
       "<Figure size 432x288 with 2 Axes>"
      ]
     },
     "metadata": {
      "needs_background": "light"
     },
     "output_type": "display_data"
    }
   ],
   "source": [
    "from sklearn.tree import DecisionTreeClassifier\n",
    "#parametry domyślne\n",
    "tree_model= DecisionTreeClassifier(random_state=0)\n",
    "tree_model.fit(X_train, y_train)\n",
    "tree_model_f1 = evaluate(tree_model, X_val, y_val)"
   ]
  },
  {
   "cell_type": "markdown",
   "id": "d62c8bd4",
   "metadata": {},
   "source": [
    "#### Model ze strojeniem\n",
    "\n",
    "Drzewo decyzyjne przyjmjuje następujące parametry:"
   ]
  },
  {
   "cell_type": "code",
   "execution_count": 255,
   "id": "fe657efe",
   "metadata": {},
   "outputs": [
    {
     "data": {
      "text/plain": [
       "{'ccp_alpha': 0.0,\n",
       " 'class_weight': None,\n",
       " 'criterion': 'gini',\n",
       " 'max_depth': None,\n",
       " 'max_features': None,\n",
       " 'max_leaf_nodes': None,\n",
       " 'min_impurity_decrease': 0.0,\n",
       " 'min_samples_leaf': 1,\n",
       " 'min_samples_split': 2,\n",
       " 'min_weight_fraction_leaf': 0.0,\n",
       " 'random_state': 0,\n",
       " 'splitter': 'best'}"
      ]
     },
     "execution_count": 255,
     "metadata": {},
     "output_type": "execute_result"
    }
   ],
   "source": [
    "tree_model.get_params()"
   ]
  },
  {
   "cell_type": "markdown",
   "id": "36a99ec9",
   "metadata": {},
   "source": [
    "Zdecydowałyśmy dostroić parametry `max_depth`, `min_samples_split`, `criterion`."
   ]
  },
  {
   "cell_type": "code",
   "execution_count": 256,
   "id": "af89bd1d",
   "metadata": {},
   "outputs": [],
   "source": [
    "max_depth=np.arange(10,150,10)\n",
    "max_depth =np.append(max_depth,None)\n",
    "min_samples_split=np.arange(1,10,1)\n",
    "criterion=[\"gini\",\"entrophy\"]\n",
    "decision_grid = dict(max_depth=max_depth,min_samples_split= min_samples_split, criterion=criterion)"
   ]
  },
  {
   "cell_type": "markdown",
   "id": "714e57f4",
   "metadata": {},
   "source": [
    "##### Random Search"
   ]
  },
  {
   "cell_type": "code",
   "execution_count": 257,
   "id": "c55589df",
   "metadata": {},
   "outputs": [
    {
     "name": "stdout",
     "output_type": "stream",
     "text": [
      "Best: 0.790349 using {'min_samples_split': 4, 'max_depth': 60, 'criterion': 'gini'}\n"
     ]
    }
   ],
   "source": [
    "random = RandomizedSearchCV(estimator=tree_model, param_distributions=decision_grid, n_jobs=-1, scoring = 'f1')\n",
    "\n",
    "tree_random_result = random.fit(X_train, y_train)\n",
    "\n",
    "#Podsumowanie wyników\n",
    "print(\"Best: %f using %s\" % (tree_random_result.best_score_, tree_random_result.best_params_))"
   ]
  },
  {
   "cell_type": "code",
   "execution_count": 258,
   "id": "bfd5d892",
   "metadata": {},
   "outputs": [
    {
     "name": "stdout",
     "output_type": "stream",
     "text": [
      "Accuracy score:  0.8547486033519553\n",
      "precision:  0.095\n",
      "recall:  0.41304347826086957\n",
      "f1:  0.15447154471544716\n"
     ]
    },
    {
     "data": {
      "image/png": "[encoded data removed]",
      "text/plain": [
       "<Figure size 432x288 with 2 Axes>"
      ]
     },
     "metadata": {
      "needs_background": "light"
     },
     "output_type": "display_data"
    }
   ],
   "source": [
    "tree_random = tree_random_result.best_estimator_\n",
    "tree_random_f1 = evaluate(tree_random, X_val, y_val)"
   ]
  },
  {
   "cell_type": "markdown",
   "id": "e01e222b",
   "metadata": {},
   "source": [
    "##### Grid Search"
   ]
  },
  {
   "cell_type": "code",
   "execution_count": 259,
   "id": "5966d982",
   "metadata": {},
   "outputs": [
    {
     "name": "stdout",
     "output_type": "stream",
     "text": [
      "Best: 0.784576 using {'criterion': 'gini', 'max_depth': 10, 'min_samples_split': 3}\n"
     ]
    }
   ],
   "source": [
    "grid = GridSearchCV(estimator=tree_model, param_grid=decision_grid, n_jobs=-1, scoring = 'f1', cv=3)\n",
    "\n",
    "tree_grid_result = grid.fit(X_train, y_train)\n",
    "\n",
    "print(\"Best: %f using %s\" % (tree_grid_result.best_score_, tree_grid_result.best_params_))"
   ]
  },
  {
   "cell_type": "code",
   "execution_count": 260,
   "id": "ad2eb3b4",
   "metadata": {},
   "outputs": [
    {
     "name": "stdout",
     "output_type": "stream",
     "text": [
      "Accuracy score:  0.8512569832402235\n",
      "precision:  0.08040201005025126\n",
      "recall:  0.34782608695652173\n",
      "f1:  0.13061224489795917\n"
     ]
    },
    {
     "data": {
      "image/png": "[encoded data removed]",
      "text/plain": [
       "<Figure size 432x288 with 2 Axes>"
      ]
     },
     "metadata": {
      "needs_background": "light"
     },
     "output_type": "display_data"
    }
   ],
   "source": [
    "tree_grid= tree_grid_result.best_estimator_\n",
    "tree_grid_f1 = evaluate(tree_grid,X_val,y_val)"
   ]
  },
  {
   "cell_type": "markdown",
   "id": "624f13ea",
   "metadata": {},
   "source": [
    "### Random Forest\n",
    "\n",
    "#### Model z parametrami domyślnymi"
   ]
  },
  {
   "cell_type": "code",
   "execution_count": 261,
   "id": "f702e8c3",
   "metadata": {},
   "outputs": [
    {
     "name": "stdout",
     "output_type": "stream",
     "text": [
      "Accuracy score:  0.9727653631284916\n",
      "precision:  0.6296296296296297\n",
      "recall:  0.3695652173913043\n",
      "f1:  0.4657534246575342\n"
     ]
    },
    {
     "data": {
      "image/png": "[encoded data removed]",
      "text/plain": [
       "<Figure size 432x288 with 2 Axes>"
      ]
     },
     "metadata": {
      "needs_background": "light"
     },
     "output_type": "display_data"
    }
   ],
   "source": [
    "from sklearn.ensemble import RandomForestClassifier\n",
    "rf = RandomForestClassifier(random_state = 0)\n",
    "rf.fit(X_train, y_train)\n",
    "rf_f1 = evaluate(rf, X_val, y_val)"
   ]
  },
  {
   "cell_type": "markdown",
   "id": "49879af7",
   "metadata": {},
   "source": [
    "#### Model ze strojeniem"
   ]
  },
  {
   "cell_type": "code",
   "execution_count": 262,
   "id": "d41c7925",
   "metadata": {},
   "outputs": [
    {
     "data": {
      "text/plain": [
       "{'bootstrap': True,\n",
       " 'ccp_alpha': 0.0,\n",
       " 'class_weight': None,\n",
       " 'criterion': 'gini',\n",
       " 'max_depth': None,\n",
       " 'max_features': 'auto',\n",
       " 'max_leaf_nodes': None,\n",
       " 'max_samples': None,\n",
       " 'min_impurity_decrease': 0.0,\n",
       " 'min_samples_leaf': 1,\n",
       " 'min_samples_split': 2,\n",
       " 'min_weight_fraction_leaf': 0.0,\n",
       " 'n_estimators': 100,\n",
       " 'n_jobs': None,\n",
       " 'oob_score': False,\n",
       " 'random_state': 0,\n",
       " 'verbose': 0,\n",
       " 'warm_start': False}"
      ]
     },
     "execution_count": 262,
     "metadata": {},
     "output_type": "execute_result"
    }
   ],
   "source": [
    "rf.get_params()"
   ]
  },
  {
   "cell_type": "markdown",
   "id": "676155cb",
   "metadata": {},
   "source": [
    "Zdecydowałyśmy dostroić parametry `n_estimators`, `criterion` , `min_samples_split`."
   ]
  },
  {
   "cell_type": "code",
   "execution_count": 263,
   "id": "959dbbde",
   "metadata": {},
   "outputs": [],
   "source": [
    "n_estimators =[10,100,1000]\n",
    "criterion=[\"gini\",\"entrophy\"]\n",
    "min_samples_split = np.arange(1,10,1)\n",
    "random_grid = dict(n_estimators=n_estimators,criterion=criterion, min_samples_split=min_samples_split )"
   ]
  },
  {
   "cell_type": "markdown",
   "id": "b66db490",
   "metadata": {},
   "source": [
    "##### Random Search"
   ]
  },
  {
   "cell_type": "code",
   "execution_count": 265,
   "id": "587fa538",
   "metadata": {},
   "outputs": [
    {
     "name": "stdout",
     "output_type": "stream",
     "text": [
      "Best: 0.902473 using {'n_estimators': 1000, 'min_samples_split': 2, 'criterion': 'gini'}\n"
     ]
    }
   ],
   "source": [
    "random = RandomizedSearchCV(estimator=rf, param_distributions=random_grid, n_jobs=-1, scoring = 'f1')\n",
    "\n",
    "rf_random_result = random.fit(X_train, y_train)\n",
    "\n",
    "#Podsumowanie wyników\n",
    "print(\"Best: %f using %s\" % (rf_random_result.best_score_, rf_random_result.best_params_))"
   ]
  },
  {
   "cell_type": "code",
   "execution_count": 266,
   "id": "82c8a8f0",
   "metadata": {},
   "outputs": [
    {
     "name": "stdout",
     "output_type": "stream",
     "text": [
      "Accuracy score:  0.9720670391061452\n",
      "precision:  0.59375\n",
      "recall:  0.41304347826086957\n",
      "f1:  0.4871794871794871\n"
     ]
    },
    {
     "data": {
      "image/png": "[encoded data removed]",
      "text/plain": [
       "<Figure size 432x288 with 2 Axes>"
      ]
     },
     "metadata": {
      "needs_background": "light"
     },
     "output_type": "display_data"
    }
   ],
   "source": [
    "rf_random = rf_random_result.best_estimator_\n",
    "rf_random_f1 = evaluate(rf_random, X_val, y_val)"
   ]
  },
  {
   "cell_type": "markdown",
   "id": "e0c055bb",
   "metadata": {},
   "source": [
    "##### Grid Search"
   ]
  },
  {
   "cell_type": "code",
   "execution_count": 267,
   "id": "17ea7e53",
   "metadata": {},
   "outputs": [
    {
     "name": "stdout",
     "output_type": "stream",
     "text": [
      "Best: 0.888766 using {'criterion': 'gini', 'min_samples_split': 4, 'n_estimators': 100}\n"
     ]
    }
   ],
   "source": [
    "grid = GridSearchCV(estimator=rf, param_grid=random_grid, n_jobs=-1, scoring = 'f1', cv=3)\n",
    "\n",
    "rf_grid_result = grid.fit(X_train, y_train)\n",
    "\n",
    "print(\"Best: %f using %s\" % (rf_grid_result.best_score_, rf_grid_result.best_params_))"
   ]
  },
  {
   "cell_type": "code",
   "execution_count": 268,
   "id": "9de0c34a",
   "metadata": {},
   "outputs": [
    {
     "name": "stdout",
     "output_type": "stream",
     "text": [
      "Accuracy score:  0.9706703910614525\n",
      "precision:  0.5625\n",
      "recall:  0.391304347826087\n",
      "f1:  0.46153846153846156\n"
     ]
    },
    {
     "data": {
      "image/png": "[encoded data removed]",
      "text/plain": [
       "<Figure size 432x288 with 2 Axes>"
      ]
     },
     "metadata": {
      "needs_background": "light"
     },
     "output_type": "display_data"
    }
   ],
   "source": [
    "rf_grid= rf_grid_result.best_estimator_\n",
    "rf_grid_f1 = evaluate(rf_grid,X_val,y_val)"
   ]
  },
  {
   "cell_type": "markdown",
   "id": "8f9d99f6",
   "metadata": {},
   "source": [
    "### Support Vector Machine \n",
    "\n",
    "#### Model z parametrami domyślnymi"
   ]
  },
  {
   "cell_type": "code",
   "execution_count": 269,
   "id": "74176472",
   "metadata": {},
   "outputs": [
    {
     "name": "stdout",
     "output_type": "stream",
     "text": [
      "Accuracy score:  0.9678770949720671\n",
      "precision:  0.0\n",
      "recall:  0.0\n",
      "f1:  0.0\n"
     ]
    },
    {
     "data": {
      "image/png": "[encoded data removed]",
      "text/plain": [
       "<Figure size 432x288 with 2 Axes>"
      ]
     },
     "metadata": {
      "needs_background": "light"
     },
     "output_type": "display_data"
    }
   ],
   "source": [
    "from sklearn.svm import SVC\n",
    "svm = SVC(random_state=0)\n",
    "svm.fit(X_train,y_train)\n",
    "svm_f1 = evaluate(svm, X_val, y_val)"
   ]
  },
  {
   "cell_type": "markdown",
   "id": "c8f7e8fc",
   "metadata": {},
   "source": [
    "#### Model ze strojeniem"
   ]
  },
  {
   "cell_type": "code",
   "execution_count": 270,
   "id": "d3c3a629",
   "metadata": {},
   "outputs": [
    {
     "data": {
      "text/plain": [
       "{'C': 1.0,\n",
       " 'break_ties': False,\n",
       " 'cache_size': 200,\n",
       " 'class_weight': None,\n",
       " 'coef0': 0.0,\n",
       " 'decision_function_shape': 'ovr',\n",
       " 'degree': 3,\n",
       " 'gamma': 'scale',\n",
       " 'kernel': 'rbf',\n",
       " 'max_iter': -1,\n",
       " 'probability': False,\n",
       " 'random_state': 0,\n",
       " 'shrinking': True,\n",
       " 'tol': 0.001,\n",
       " 'verbose': False}"
      ]
     },
     "execution_count": 270,
     "metadata": {},
     "output_type": "execute_result"
    }
   ],
   "source": [
    "svm.get_params()"
   ]
  },
  {
   "cell_type": "markdown",
   "id": "91dc392e",
   "metadata": {},
   "source": [
    "Zdecydowałyśmy dostroić parametry `kernel`, `C` ,`gamma`."
   ]
  },
  {
   "cell_type": "markdown",
   "id": "f6b153d3",
   "metadata": {},
   "source": [
    "##### Random Search"
   ]
  },
  {
   "cell_type": "code",
   "execution_count": 276,
   "id": "c63f9b22",
   "metadata": {},
   "outputs": [],
   "source": [
    "kernel = ['linear', 'poly', 'rbf']\n",
    "C = [0.1, 1, 10, 100, 1000]\n",
    "gamma = [1,0.1,0.01,0.001]\n",
    "svm_grid = dict(kernel=kernel, C=C, gamma=gamma)"
   ]
  },
  {
   "cell_type": "code",
   "execution_count": 272,
   "id": "e57622ee",
   "metadata": {},
   "outputs": [
    {
     "name": "stdout",
     "output_type": "stream",
     "text": [
      "Best: 0.927970 using {'kernel': 'rbf', 'gamma': 0.1, 'C': 1000}\n"
     ]
    }
   ],
   "source": [
    "random = RandomizedSearchCV(estimator=svm, param_distributions=svm_grid, n_jobs=-1, scoring = 'f1')\n",
    "\n",
    "svm_random_result = random.fit(X_train, y_train)\n",
    "\n",
    "#Podsumowanie wyników\n",
    "print(\"Best: %f using %s\" % (svm_random_result.best_score_, svm_random_result.best_params_))"
   ]
  },
  {
   "cell_type": "code",
   "execution_count": 273,
   "id": "b7aacbdb",
   "metadata": {},
   "outputs": [
    {
     "name": "stdout",
     "output_type": "stream",
     "text": [
      "Accuracy score:  0.9678770949720671\n",
      "precision:  0.0\n",
      "recall:  0.0\n",
      "f1:  0.0\n"
     ]
    },
    {
     "data": {
      "image/png": "[encoded data removed]",
      "text/plain": [
       "<Figure size 432x288 with 2 Axes>"
      ]
     },
     "metadata": {
      "needs_background": "light"
     },
     "output_type": "display_data"
    }
   ],
   "source": [
    "svm_random = svm_random_result.best_estimator_\n",
    "svm_random_f1 = evaluate(svm_random, X_val, y_val)"
   ]
  },
  {
   "cell_type": "markdown",
   "id": "9c9c0547",
   "metadata": {},
   "source": [
    "##### Grid Search"
   ]
  },
  {
   "cell_type": "code",
   "execution_count": 274,
   "id": "f515294f",
   "metadata": {},
   "outputs": [
    {
     "name": "stdout",
     "output_type": "stream",
     "text": [
      "Best: 0.942192 using {'C': 100, 'gamma': 1, 'kernel': 'rbf'}\n"
     ]
    }
   ],
   "source": [
    "grid = GridSearchCV(estimator=svm, param_grid=svm_grid, n_jobs=-1, scoring = 'f1', cv=3)\n",
    "\n",
    "svm_grid_result = grid.fit(X_train, y_train)\n",
    "\n",
    "print(\"Best: %f using %s\" % (svm_grid_result.best_score_, svm_grid_result.best_params_))"
   ]
  },
  {
   "cell_type": "code",
   "execution_count": 275,
   "id": "b26f2568",
   "metadata": {},
   "outputs": [
    {
     "name": "stdout",
     "output_type": "stream",
     "text": [
      "Accuracy score:  0.9678770949720671\n",
      "precision:  0.0\n",
      "recall:  0.0\n",
      "f1:  0.0\n"
     ]
    },
    {
     "data": {
      "image/png": "[encoded data removed]",
      "text/plain": [
       "<Figure size 432x288 with 2 Axes>"
      ]
     },
     "metadata": {
      "needs_background": "light"
     },
     "output_type": "display_data"
    }
   ],
   "source": [
    "svm_grid= svm_grid_result.best_estimator_\n",
    "svm_grid_f1 = evaluate(svm_grid,X_val,y_val)"
   ]
  },
  {
   "cell_type": "markdown",
   "id": "10d354ad",
   "metadata": {},
   "source": [
    "## Podsumowanie\n",
    "\n",
    "Jako że w zmiennej celu jest dysproporcja między ilością wartości pozytywnych do negatywnych, nie łatwo było poprawić wyniki F1 score za pomocą strojenia parametrów. Poprawa zbilansowania danych treningowych zaowocowała wyższym F1 score dla parametórw domyślnych. Na podstawie wyników wnioskujemy:\n",
    "+ Model SVM nie sprawdził się do przewidywania danych, jako że F1 wyniosło 0, zarówno dla paramtrów domyślnych jak i po strojeniu\n",
    "+ Dla drzewa decyzyjnego i Random Forest, Random Search uzyskał trochę lepsze wyniki od parametrów domyślnych,a qyniki z Grid Search były nieznacznie niższe od wyników z parametrami domyślnymi.\n",
    "+ Drzewo decyzyjne otrzymało wyniki poniżej 0.2, w związku z tym model ten uważamy za nienajlepsze rozwiązanie\n",
    "+ Najlepiej wypadł Random Forest, dla którego F1 wyniosło (po zastosowaniu Random Search) 0.5\n",
    "+ Modele dobrze przewidywały wartości pozytywne, a miały problemy z negatywnymi - stąd niskie wyniki dla F1 score, przy wysokim accuracy. W związku z tym podejrzewamy, że wyniki możnaby poprawić jeszcze lepszym zbilansowaniem zmiennej celu.\n",
    "+ Random Search wypadł lepiej od Grid Search pod względem prędkości działania oraz (choć nieznacznie) lepiej dopasowanych parametrów."
   ]
  }
 ],
 "metadata": {
  "kernelspec": {
   "display_name": "Python 3 (ipykernel)",
   "language": "python",
   "name": "python3"
  },
  "language_info": {
   "codemirror_mode": {
    "name": "ipython",
    "version": 3
   },
   "file_extension": ".py",
   "mimetype": "text/x-python",
   "name": "python",
   "nbconvert_exporter": "python",
   "pygments_lexer": "ipython3",
   "version": "3.9.11"
  }
 },
 "nbformat": 4,
 "nbformat_minor": 5
}
